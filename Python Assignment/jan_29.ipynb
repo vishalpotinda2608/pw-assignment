{
 "cells": [
  {
   "cell_type": "markdown",
   "metadata": {},
   "source": [
    "## 1.Who developed python programming languages ?\n"
   ]
  },
  {
   "cell_type": "markdown",
   "metadata": {},
   "source": [
    "#### Python programming language was created by Guido van Rossum. He started working on Python in the late 1980s and released the first version, Python 0.9.0, in February 1991. Guido van Rossum continued to lead the development of Python until he stepped down as the \"Benevolent Dictator For Life\" (BDFL) of the Python community in 2018. Python development has since been managed by the Python Steering Council, a group of core developers who oversee the language's development and evolution."
   ]
  },
  {
   "cell_type": "markdown",
   "metadata": {},
   "source": [
    "# 2.Which type programming does Python support?  "
   ]
  },
  {
   "cell_type": "markdown",
   "metadata": {},
   "source": [
    "#### Python is a  multipurpose programming language that supports various programming paradigms, making it suitable for a wide range of applications\n",
    "#### Some of the primary programming paradigms that Python supports include\n",
    "#### Imperative programming,OOP,functional programming,procedual programming,Scripting,Web development,Data Analysis and machine leaning and AI"
   ]
  },
  {
   "cell_type": "markdown",
   "metadata": {},
   "source": [
    "# 3.is Python case sensitive when dealing with identifiers?"
   ]
  },
  {
   "cell_type": "markdown",
   "metadata": {},
   "source": [
    "#### Yes, Python is a case-sensitive language when it comes to identifiers. This means that Python treats uppercase and lowercase letters as distinct and separate characters in variable names, function names, class names, and other identifiers."
   ]
  },
  {
   "cell_type": "markdown",
   "metadata": {},
   "source": [
    "# 4. What is correct extension of the python file ?"
   ]
  },
  {
   "cell_type": "markdown",
   "metadata": {},
   "source": [
    "#### Python files typically have the \".py\" file extension. This is the standard and most commonly used extension for Python source code files"
   ]
  },
  {
   "cell_type": "markdown",
   "metadata": {},
   "source": [
    "# 5. Is python code compiled or interpreted ?"
   ]
  },
  {
   "cell_type": "markdown",
   "metadata": {},
   "source": [
    "#### Python is both a compiled and interpreted language, but it leans more towards interpretation. Here's how Python's execution process works:\n",
    "\n",
    "#### Compilation: When you write Python code, the source code is first compiled into intermediate bytecode. This compilation is done by the Python interpreter. The bytecode is a low-level representation of your code and is not machine code; it's Python-specific.\n",
    "\n",
    "#### Interpretation: After the compilation, the Python interpreter executes the bytecode line by line. This interpretation step is where your code is actually executed."
   ]
  },
  {
   "cell_type": "markdown",
   "metadata": {},
   "source": [
    "# 6. Name a few blocks of code used to define in python programming ?"
   ]
  },
  {
   "cell_type": "markdown",
   "metadata": {},
   "source": [
    "#### Conditional Statements (if, elif, else)\n",
    "#### Loops (for and while)\n",
    "#### Function Definitions\n",
    "#### Class Definitions (with methods)\n",
    "#### Exception Handling (try, except, finally)"
   ]
  },
  {
   "cell_type": "markdown",
   "metadata": {},
   "source": [
    "# 7. State a character used to give single-line commenets in python ?"
   ]
  },
  {
   "cell_type": "markdown",
   "metadata": {},
   "source": [
    "#### In Python, you can use the hash (#) character to write single-line comments. Any text that follows a # on a line is considered a comment and is not executed as code. Single-line comments are often used for adding explanatory notes or documentation within the code."
   ]
  },
  {
   "cell_type": "code",
   "execution_count": 2,
   "metadata": {},
   "outputs": [],
   "source": [
    "# This is a single-line comment\n",
    "x = 10  # This is another comment after a line of code"
   ]
  },
  {
   "cell_type": "markdown",
   "metadata": {},
   "source": [
    "# 8.Mention functions which can help us to find the version of python that we are currently working on ?"
   ]
  },
  {
   "cell_type": "markdown",
   "metadata": {},
   "source": [
    "#### The sys module provides information about the Python environment. You can access the Python version with sys.version and the version information as a tuple with sys.version_info."
   ]
  },
  {
   "cell_type": "code",
   "execution_count": 1,
   "metadata": {},
   "outputs": [
    {
     "name": "stdout",
     "output_type": "stream",
     "text": [
      "Python Version: 3.12.0 (tags/v3.12.0:0fb18b0, Oct  2 2023, 13:03:39) [MSC v.1935 64 bit (AMD64)]\n",
      "Python Version Info: sys.version_info(major=3, minor=12, micro=0, releaselevel='final', serial=0)\n"
     ]
    }
   ],
   "source": [
    "import sys\n",
    "\n",
    "python_version = sys.version\n",
    "print(\"Python Version:\", python_version)\n",
    "\n",
    "python_version_info = sys.version_info\n",
    "print(\"Python Version Info:\", python_version_info)\n"
   ]
  },
  {
   "cell_type": "markdown",
   "metadata": {},
   "source": [
    "# 9.Python support the creation anonymous functiona at runtime,using contruct called ?"
   ]
  },
  {
   "cell_type": "markdown",
   "metadata": {},
   "source": [
    "#### In Python, you can create anonymous functions at runtime using a construct called \"lambda\" functions. Lambda functions, also known as lambda expressions or anonymous functions, allow you to define small, unnamed functions without the need to use the def keyword for a formal function definition."
   ]
  },
  {
   "cell_type": "code",
   "execution_count": 3,
   "metadata": {},
   "outputs": [
    {
     "data": {
      "text/plain": [
       "<function __main__.<lambda>(arguments)>"
      ]
     },
     "execution_count": 3,
     "metadata": {},
     "output_type": "execute_result"
    }
   ],
   "source": [
    "lambda arguments: expression\n"
   ]
  },
  {
   "cell_type": "markdown",
   "metadata": {},
   "source": [
    "# 10. What does pip stand for python ?"
   ]
  },
  {
   "cell_type": "markdown",
   "metadata": {},
   "source": [
    "#### \"pip\" stands for \"Pip Installs Packages.\" It is the package manager for Python, used to install, upgrade, and manage Python packages and libraries. Pip makes it easy to install and distribute Python packages from the Python Package Index (PyPI) and other sources. "
   ]
  },
  {
   "cell_type": "markdown",
   "metadata": {},
   "source": [
    "# 11. Mention a few built-in functions in python ?"
   ]
  },
  {
   "cell_type": "markdown",
   "metadata": {},
   "source": [
    "#### Python has a wide range of built-in functions that are available for use without the need to import external libraries. Here are a few commonly used built-in functions in Python:\n",
    "#### print(): Used to display output to the console.\n",
    "#### input(): Reads input from the user via the console.\n",
    "#### len(): Returns the length of an iterable (e.g., a list, string, or tuple).\n",
    "#### type(): Returns the type of an object.\n",
    "#### int(): Converts a value to an integer.\n",
    "#### float(): Converts a value to a floating-point number.\n",
    "#### str(): Converts a value to a string.\n",
    "#### list(): Converts an iterable to a list.\n",
    "#### tuple(): Converts an iterable to a tuple.\n",
    "#### dict(): Creates a new dictionary or converts a sequence of key-value pairs to a dictionary.\n",
    "#### set(): Creates a new set or converts an iterable to a set.\n",
    "#### range(): Generates a sequence of numbers.\n",
    "#### sum(): Calculates the sum of all elements in an iterable.\n",
    "#### max(): Returns the maximum value in an iterable.\n",
    "#### min(): Returns the minimum value in an iterable.\n",
    "#### abs(): Returns the absolute value of a number.\n",
    "#### round(): Rounds a floating-point number to a specified number of decimal places.\n",
    "#### sorted(): Returns a sorted version of an iterable.\n",
    "#### zip(): Combines multiple iterables into tuples.\n",
    "#### enumerate(): Iterates over an iterable and returns both the index and the value.\n",
    "#### filter(): Filters elements from an iterable based on a provided function.\n",
    "#### map(): Applies a function to all elements in an iterable.\n",
    "#### all(): Returns True if all elements in an iterable are True.\n",
    "#### any(): Returns True if any element in an iterable is True.\n",
    "#### open(): Opens files for reading, writing, or appending."
   ]
  },
  {
   "cell_type": "markdown",
   "metadata": {},
   "source": [
    "# 12. What is the maximum possible length of an identifer in python ? "
   ]
  },
  {
   "cell_type": "markdown",
   "metadata": {},
   "source": [
    "#### In Python, the maximum possible length of an identifier (e.g., variable names, function names, class names) is not explicitly specified by the language reference. However, practical limitations, such as the maximum file name length imposed by the operating system and the limits of your code editor or IDE, may be more relevant than any theoretical limit."
   ]
  },
  {
   "cell_type": "markdown",
   "metadata": {},
   "source": [
    "# 13. What are benefits of using python ?"
   ]
  },
  {
   "cell_type": "markdown",
   "metadata": {},
   "source": [
    "Python is a popular and versatile programming language that offers a wide range of benefits, making it an attractive choice for various applications. Here are some of the key benefits of using Python:\n",
    "\n",
    "Readability and Simplicity: Python is known for its clear and concise syntax, which emphasizes readability. This makes it an excellent choice for beginners and experienced developers alike.\n",
    "\n",
    "Large Standard Library: Python has a vast standard library with modules for various tasks, which reduces the need for external packages. It makes it easy to perform common tasks without reinventing the wheel.\n",
    "\n",
    "Cross-Platform Compatibility: Python is available on multiple platforms (Windows, macOS, Linux) and is highly portable. This allows you to write code that works on different operating systems.\n",
    "\n",
    "Extensive Ecosystem: Python has a rich ecosystem of third-party libraries and packages, covering a wide range of domains such as web development, data analysis, machine learning, and more. You can leverage these libraries to save time and effort.\n",
    "\n",
    "Open Source and Community Support: Python is an open-source language with a large and active community. This community support includes documentation, forums, and resources to help developers.\n",
    "\n",
    "Interpreted Language: Python is an interpreted language, which means you can write code and execute it interactively, making it an ideal language for prototyping and testing.\n",
    "\n",
    "Dynamic Typing: Python uses dynamic typing, allowing for flexible and versatile coding. Variables can change types as needed, which simplifies development but requires careful variable naming and documentation.\n",
    "\n",
    "High-Level Language: Python abstracts many low-level details, reducing the complexity of tasks and allowing developers to focus on the problem at hand.\n",
    "\n",
    "Rapid Development: The combination of a simple syntax, an extensive standard library, and third-party packages means you can develop applications more quickly.\n",
    "\n",
    "Object-Oriented: Python supports object-oriented programming, enabling developers to model real-world objects and relationships efficiently.\n",
    "\n",
    "Strong Support for Integration: Python can easily interface with other languages and systems, making it suitable for scripting and glue code.\n",
    "\n",
    "Community-Driven Updates: Python is actively maintained and updated, with a well-structured enhancement proposal (PEP) process that allows for the introduction of new features and improvements.\n",
    "\n",
    "Data Science and Machine Learning: Python has become a popular choice for data analysis, scientific computing, and machine learning, with libraries like NumPy, pandas, SciPy, scikit-learn, TensorFlow, and PyTorch.\n",
    "\n",
    "Web Development: Python web frameworks like Django and Flask make it easy to build web applications efficiently.\n",
    "\n",
    "Community and Job Opportunities: The popularity of Python has led to a growing job market, making it a valuable skill for developers.\n",
    "\n",
    "Education and Learning: Python is often recommended for beginners and used in educational settings due to its simplicity and versatility."
   ]
  },
  {
   "cell_type": "markdown",
   "metadata": {},
   "source": [
    "# 14. How is memory mananged in python ?"
   ]
  },
  {
   "cell_type": "markdown",
   "metadata": {},
   "source": [
    "Reference Counting: Python uses a reference counting mechanism to keep track of the number of references to objects. When an object's reference count drops to zero, it is eligible for garbage collection, and its memory is deallocated. Reference counting is a simple and efficient way to manage memory for short-lived objects.\n",
    "\n",
    "Garbage Collection: While reference counting is effective for many cases, it doesn't handle cyclic references (objects referencing each other in a loop), which would result in memory leaks. Python employs a cyclic garbage collector to detect and collect such cyclically referenced objects.\n",
    "\n",
    "Memory Allocation: Python's memory manager allocates and manages memory in small blocks, known as \"pools.\" Objects are created from these pools, which helps in reducing memory fragmentation and managing memory efficiently.\n",
    "\n",
    "Memory Optimization: Python's memory manager includes various strategies to optimize memory usage. For example, it uses a system-specific allocator (e.g., malloc in CPython) to allocate memory for Python objects.\n",
    "\n",
    "Memory Profiling: You can use tools like sys.getsizeof to determine the memory usage of individual objects or libraries like tracemalloc to profile memory usage within your code.\n",
    "\n",
    "Memory Efficiency: Python's memory manager is designed to be memory-efficient. It employs various techniques, such as shared references, to minimize the overhead of storing objects.\n",
    "\n",
    "Del Statement: You can use the del statement to explicitly delete references to objects. This reduces the reference count and may lead to an object being deallocated if no other references exist.\n",
    "\n",
    "Memory Leaks: While Python's memory management is generally automatic, you should be aware of potential memory leaks caused by circular references or long-lived objects. Proper coding practices and using tools like the gc module can help detect and address memory leaks."
   ]
  },
  {
   "cell_type": "markdown",
   "metadata": {},
   "source": [
    "# 15. How to install python on Window and set path variable ?"
   ]
  },
  {
   "cell_type": "markdown",
   "metadata": {},
   "source": []
  },
  {
   "cell_type": "markdown",
   "metadata": {},
   "source": [
    "# 16. Is Indentation required in python ?"
   ]
  },
  {
   "cell_type": "markdown",
   "metadata": {},
   "source": [
    "#### Yes, indentation is required in Python. Unlike many programming languages that use braces or other symbols to define blocks of code, Python uses indentation to delimit blocks. The level of indentation (usually four spaces or a tab character) indicates which statements are part of a particular block or scope"
   ]
  },
  {
   "cell_type": "markdown",
   "metadata": {},
   "source": []
  }
 ],
 "metadata": {
  "kernelspec": {
   "display_name": "Python 3",
   "language": "python",
   "name": "python3"
  },
  "language_info": {
   "codemirror_mode": {
    "name": "ipython",
    "version": 3
   },
   "file_extension": ".py",
   "mimetype": "text/x-python",
   "name": "python",
   "nbconvert_exporter": "python",
   "pygments_lexer": "ipython3",
   "version": "3.12.0"
  }
 },
 "nbformat": 4,
 "nbformat_minor": 2
}
